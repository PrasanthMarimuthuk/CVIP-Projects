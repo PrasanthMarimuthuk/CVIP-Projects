{
  "nbformat": 4,
  "nbformat_minor": 0,
  "metadata": {
    "colab": {
      "provenance": []
    },
    "kernelspec": {
      "name": "python3",
      "display_name": "Python 3"
    },
    "language_info": {
      "name": "python"
    }
  },
  "cells": [
    {
      "cell_type": "code",
      "source": [
        "class ExpenseSharingApp:\n",
        "    def __init__(self):\n",
        "        self.users = {}\n",
        "        self.expenses = []\n",
        "\n",
        "    def add_user(self, user_name):\n",
        "        if user_name not in self.users:\n",
        "            self.users[user_name] = 0\n",
        "            print(f\"User '{user_name}' added successfully.\")\n",
        "        else:\n",
        "            print(f\"User '{user_name}' already exists.\")\n",
        "\n",
        "    def add_expense(self, amount):\n",
        "        total_participants = len(self.users)\n",
        "\n",
        "        individual_share = amount / total_participants\n",
        "\n",
        "        for participant in self.users:\n",
        "            self.users[participant] -= individual_share\n",
        "\n",
        "        self.expenses.append({\n",
        "            'amount': amount,\n",
        "            'participants': list(self.users.keys())\n",
        "        })\n",
        "\n",
        "        print(\"Expense added successfully.\")\n",
        "\n",
        "    def display_split_amounts(self):\n",
        "        print(\"Split amounts:\")\n",
        "        for participant, balance in self.users.items():\n",
        "            split_amount = max(-balance, 0)  # Display only positive split amounts\n",
        "            print(f\"{participant}: ${split_amount:.2f}\")\n",
        "\n",
        "\n",
        "# Example Usage with User Input\n",
        "app = ExpenseSharingApp()\n",
        "\n",
        "# Add users\n",
        "num_users = int(input(\"Enter the number of friends: \"))\n",
        "for _ in range(num_users):\n",
        "    user_name = input(\"Enter friend's name: \")\n",
        "    app.add_user(user_name)\n",
        "\n",
        "# Enter bill details\n",
        "bill_amount = float(input(\"Enter the total bill amount: \"))\n",
        "\n",
        "# Add expense\n",
        "app.add_expense(bill_amount)\n",
        "\n",
        "# Display split amounts\n",
        "app.display_split_amounts()\n",
        "\n",
        "\n"
      ],
      "metadata": {
        "colab": {
          "base_uri": "https://localhost:8080/"
        },
        "id": "jG2j7AxE0XV0",
        "outputId": "d96057c1-43fd-4211-d230-a3a996105273"
      },
      "execution_count": 11,
      "outputs": [
        {
          "output_type": "stream",
          "name": "stdout",
          "text": [
            "Enter the number of friends: 3\n",
            "Enter friend's name: prasa\n",
            "User 'prasa' added successfully.\n",
            "Enter friend's name: lugee\n",
            "User 'lugee' added successfully.\n",
            "Enter friend's name: ragul\n",
            "User 'ragul' added successfully.\n",
            "Enter the total bill amount: 4065\n",
            "Expense added successfully.\n",
            "Split amounts:\n",
            "prasa: $1355.00\n",
            "lugee: $1355.00\n",
            "ragul: $1355.00\n"
          ]
        }
      ]
    }
  ]
}